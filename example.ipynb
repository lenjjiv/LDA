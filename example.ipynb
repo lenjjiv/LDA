{
 "cells": [
  {
   "cell_type": "code",
   "execution_count": 2,
   "metadata": {},
   "outputs": [],
   "source": [
    "from LDA import LDA\n",
    "import pandas as pd\n",
    "\n",
    "# Пример использования\n",
    "data = pd.read_csv(\n",
    "    'https://archive.ics.uci.edu/ml/machine-learning-databases/iris/iris.data', \n",
    "    header = None\n",
    ") \n",
    "\n",
    "# Extract features and target\n",
    "X = data.iloc[:, 0:4].values\n",
    "y = data.iloc[:, 4].values\n",
    "\n",
    "# Initialize LDA with 2 components\n",
    "lda = LDA(n_components=3)\n",
    "\n",
    "# Apply fit_transform\n",
    "X_lda = lda.fit_transform(X, y)"
   ]
  },
  {
   "cell_type": "code",
   "execution_count": null,
   "metadata": {},
   "outputs": [],
   "source": [
    "import plotly.express as px\n",
    "\n",
    "px.scatter(\n",
    "    X_lda, \n",
    "    x=0, y=1, \n",
    "    color=y,\n",
    "    labels={'0': 'LD 1', '1': 'LD 2'},\n",
    "    width=800, \n",
    "    height=600,\n",
    ")"
   ]
  }
 ],
 "metadata": {
  "kernelspec": {
   "display_name": "base",
   "language": "python",
   "name": "python3"
  },
  "language_info": {
   "codemirror_mode": {
    "name": "ipython",
    "version": 3
   },
   "file_extension": ".py",
   "mimetype": "text/x-python",
   "name": "python",
   "nbconvert_exporter": "python",
   "pygments_lexer": "ipython3",
   "version": "3.11.5"
  }
 },
 "nbformat": 4,
 "nbformat_minor": 2
}
